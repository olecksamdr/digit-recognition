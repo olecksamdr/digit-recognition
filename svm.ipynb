{
 "cells": [
  {
   "cell_type": "code",
   "execution_count": 2,
   "metadata": {},
   "outputs": [],
   "source": [
    "import gzip\n",
    "import struct\n",
    "import numpy as np\n",
    "import matplotlib.pyplot as plt"
   ]
  },
  {
   "cell_type": "markdown",
   "metadata": {},
   "source": [
    "1. Перших 2 байти завжди порожні тому ми їх пропускаємо зчитуючи >H тип unsigned short який займає 2 байти\n",
    "\n",
    "2. 3-ій байт вказує на тип даних\n",
    "  * 0x08: unsigned byte \n",
    "  * 0x09: signed byte \n",
    "  * 0x0B: short (2 bytes) \n",
    "  * 0x0C: int (4 bytes) \n",
    "  * 0x0D: float (4 bytes) \n",
    "  * 0x0E: double (8 bytes)\n",
    "  \n",
    "3. Наступний байт вказує кількість вимірів матриці\n",
    "\n",
    "4. Далі послідовно для кожного виміру вказано його розмір як 4-байтове ціле число. Тобто, починаючи з п’ятого байту, три групи по 4 байти вказують на розмірність тривимірної матриці, а саме"
   ]
  },
  {
   "cell_type": "code",
   "execution_count": 6,
   "metadata": {},
   "outputs": [
    {
     "name": "stdout",
     "output_type": "stream",
     "text": [
      "Labels shape\n",
      "(0, 8, 1)\n",
      "(60000,)\n",
      "\n",
      "Images shape\n",
      "(0, 8, 3)\n",
      "(60000, 28, 28)\n"
     ]
    }
   ],
   "source": [
    "print('Labels shape')\n",
    "\n",
    "with gzip.open('dataset/train-labels-idx1-ubyte.gz', 'rb') as f:\n",
    "    print(struct.unpack('>HBB', f.read(4)))\n",
    "    print(struct.unpack('>I', f.read(4)))\n",
    "\n",
    "print('\\nImages shape')\n",
    "with gzip.open('dataset/train-images-idx3-ubyte.gz', 'rb') as f:\n",
    "    print(struct.unpack('>HBB', f.read(4)))\n",
    "    print(struct.unpack('>III', f.read(12)))\n",
    "    \n",
    "    "
   ]
  },
  {
   "cell_type": "code",
   "execution_count": 7,
   "metadata": {},
   "outputs": [],
   "source": [
    "# script for reading MNIST file format\n",
    "def read_idx(filename):\n",
    "    with gzip.open(filename, 'rb') as f:\n",
    "        zero, data_type, dims = struct.unpack('>HBB', f.read(4))\n",
    "        shape = tuple(struct.unpack('>I', f.read(4))[0] for d in range(dims))\n",
    "        return np.frombuffer(f.read(), dtype=np.uint8).reshape(shape)"
   ]
  },
  {
   "cell_type": "code",
   "execution_count": 8,
   "metadata": {},
   "outputs": [],
   "source": [
    "raw_train = read_idx('dataset/train-images-idx3-ubyte.gz')\n",
    "X_train = raw_train.reshape(60000, 28 * 28)\n",
    "y_train = read_idx('dataset/train-labels-idx1-ubyte.gz')\n",
    "\n",
    "raw_test = read_idx('dataset/t10k-images-idx3-ubyte.gz')\n",
    "X_test = raw_test.reshape(10000, 28 * 28)\n",
    "y_test = read_idx('dataset/t10k-labels-idx1-ubyte.gz')"
   ]
  },
  {
   "cell_type": "code",
   "execution_count": 9,
   "metadata": {},
   "outputs": [],
   "source": [
    "X_test = X_test / 255\n",
    "X_train = X_train / 255"
   ]
  },
  {
   "cell_type": "code",
   "execution_count": 5,
   "metadata": {},
   "outputs": [
    {
     "name": "stderr",
     "output_type": "stream",
     "text": [
      "/usr/local/lib/python3.5/dist-packages/sklearn/utils/validation.py:475: DataConversionWarning: Data with input dtype uint8 was converted to float64 by StandardScaler.\n",
      "  warnings.warn(msg, DataConversionWarning)\n"
     ]
    }
   ],
   "source": [
    "from sklearn.preprocessing import StandardScaler\n",
    "\n",
    "scaler = StandardScaler()\n",
    "X_train_scaled = scaler.fit_transform(X_train)\n",
    "X_test_scaled = scaler.transform(X_test)"
   ]
  },
  {
   "cell_type": "code",
   "execution_count": 10,
   "metadata": {},
   "outputs": [],
   "source": [
    "import pandas as pd\n",
    "\n",
    "def get_subset(X, y, n):\n",
    "    df = pd.DataFrame(data=X)\n",
    "    df['label'] = y\n",
    "    df = df.groupby('label').apply(pd.DataFrame.sample, n=n).reset_index(drop=True)\n",
    "    \n",
    "    return df.iloc[:, :-1].copy(), df.label.copy()"
   ]
  },
  {
   "cell_type": "code",
   "execution_count": 12,
   "metadata": {},
   "outputs": [],
   "source": [
    "X_subset, y_subset = get_subset(X_train, y_train, 100)"
   ]
  },
  {
   "cell_type": "code",
   "execution_count": 13,
   "metadata": {},
   "outputs": [],
   "source": [
    "from sklearn.svm import LinearSVC"
   ]
  },
  {
   "cell_type": "code",
   "execution_count": null,
   "metadata": {},
   "outputs": [],
   "source": [
    "%time LinearSVC(C=0.001, verbose=True, dual=False, max_iter=1000000).fit(X_subset, y_subset)"
   ]
  },
  {
   "cell_type": "code",
   "execution_count": 14,
   "metadata": {},
   "outputs": [
    {
     "name": "stdout",
     "output_type": "stream",
     "text": [
      "[LibLinear][LibLinear][LibLinear][LibLinear][LibLinear]1e-05 0.693\n",
      "[LibLinear][LibLinear][LibLinear][LibLinear][LibLinear]0.0001 0.784\n",
      "[LibLinear][LibLinear][LibLinear][LibLinear][LibLinear]0.001 0.8390000000000001\n",
      "[LibLinear][LibLinear][LibLinear][LibLinear][LibLinear]0.01 0.8710000000000001\n",
      "[LibLinear][LibLinear][LibLinear][LibLinear][LibLinear]0.1 0.867\n",
      "[LibLinear][LibLinear][LibLinear][LibLinear][LibLinear]1.0 0.833\n",
      "[LibLinear][LibLinear][LibLinear][LibLinear][LibLinear]10.0 0.8310000000000001\n",
      "[LibLinear][LibLinear][LibLinear][LibLinear][LibLinear]100.0 0.826\n",
      "[LibLinear][LibLinear][LibLinear][LibLinear][LibLinear]1000.0 0.825\n",
      "[LibLinear][LibLinear][LibLinear][LibLinear][LibLinear]10000.0 0.826\n"
     ]
    }
   ],
   "source": [
    "from sklearn.model_selection import cross_val_score\n",
    "\n",
    "parameters = np.power(10.0, np.arange(-5, 5))\n",
    "scores = []\n",
    "\n",
    "for c in parameters:\n",
    "    svc = LinearSVC(C=c, verbose=True, dual=False, max_iter=1000000)\n",
    "    score = cross_val_score(svc, X_subset, y_subset, cv=5, scoring='accuracy').mean()\n",
    "    scores.append(score)\n",
    "    print(c, scores[-1])"
   ]
  },
  {
   "cell_type": "code",
   "execution_count": 15,
   "metadata": {},
   "outputs": [
    {
     "name": "stdout",
     "output_type": "stream",
     "text": [
      "0.8710000000000001 0.01\n"
     ]
    },
    {
     "data": {
      "image/png": "[encoded data removed]",
      "text/plain": [
       "<Figure size 432x288 with 1 Axes>"
      ]
     },
     "metadata": {},
     "output_type": "display_data"
    }
   ],
   "source": [
    "plt.plot(parameters, scores)\n",
    "\n",
    "# plt.xticks(parameters)\n",
    "\n",
    "plt.xlabel('Значення параметру C')\n",
    "plt.ylabel('Частка правильних відповідей')\n",
    "\n",
    "xmax = max(scores)\n",
    "xindex = scores.index(xmax)\n",
    "print(xmax, parameters[xindex])"
   ]
  },
  {
   "cell_type": "code",
   "execution_count": 17,
   "metadata": {},
   "outputs": [
    {
     "name": "stdout",
     "output_type": "stream",
     "text": [
      "[LibLinear]Wall time: 42 s\n"
     ]
    }
   ],
   "source": [
    "%time svm = LinearSVC(C=0.01, verbose=True, dual=False, max_iter=1000000).fit(X_train, y_train)"
   ]
  },
  {
   "cell_type": "code",
   "execution_count": 18,
   "metadata": {},
   "outputs": [
    {
     "name": "stdout",
     "output_type": "stream",
     "text": [
      "Wall time: 192 ms\n"
     ]
    }
   ],
   "source": [
    "%time y_pred = svm.predict(X_test)"
   ]
  },
  {
   "cell_type": "code",
   "execution_count": 19,
   "metadata": {},
   "outputs": [
    {
     "data": {
      "text/plain": [
       "0.9171"
      ]
     },
     "execution_count": 19,
     "metadata": {},
     "output_type": "execute_result"
    }
   ],
   "source": [
    "from sklearn.metrics import accuracy_score\n",
    "\n",
    "accuracy_score(y_test, y_pred)"
   ]
  },
  {
   "cell_type": "code",
   "execution_count": 20,
   "metadata": {},
   "outputs": [],
   "source": [
    "import itertools\n",
    "\n",
    "from sklearn.model_selection import train_test_split\n",
    "from sklearn.metrics import confusion_matrix\n",
    "\n",
    "def plot_confusion_matrix(cm, classes,\n",
    "                          normalize=False,\n",
    "                          title='Confusion matrix',\n",
    "                          cmap=plt.cm.Blues):\n",
    "    \"\"\"\n",
    "    This function prints and plots the confusion matrix.\n",
    "    Normalization can be applied by setting `normalize=True`.\n",
    "    \"\"\"\n",
    "    if normalize:\n",
    "        cm = cm.astype('float') / cm.sum(axis=1)[:, np.newaxis]\n",
    "        print(\"Нормалізована матриця помилок\")\n",
    "    else:\n",
    "        print('Матриця помилок, без нормалізації')\n",
    "\n",
    "    print(cm)\n",
    "\n",
    "    plt.imshow(cm, interpolation='nearest', cmap=cmap)\n",
    "    plt.title(title)\n",
    "    plt.colorbar()\n",
    "    tick_marks = np.arange(len(classes))\n",
    "    plt.xticks(tick_marks, classes, rotation=45)\n",
    "    plt.yticks(tick_marks, classes)\n",
    "\n",
    "    fmt = '.2f' if normalize else 'd'\n",
    "    thresh = cm.max() / 2.\n",
    "    for i, j in itertools.product(range(cm.shape[0]), range(cm.shape[1])):\n",
    "        plt.text(j, i, format(cm[i, j], fmt),\n",
    "                 horizontalalignment=\"center\",\n",
    "                 color=\"white\" if cm[i, j] > thresh else \"black\")\n",
    "\n",
    "    plt.tight_layout()\n",
    "    plt.ylabel('Вірний клас')\n",
    "    plt.xlabel('Передбачений клас')\n",
    "\n",
    "# Compute confusion matrix\n",
    "cnf_matrix = confusion_matrix(y_test, y_pred)\n",
    "np.set_printoptions(precision=2)"
   ]
  },
  {
   "cell_type": "code",
   "execution_count": 21,
   "metadata": {},
   "outputs": [
    {
     "name": "stdout",
     "output_type": "stream",
     "text": [
      "Матриця помилок, без нормалізації\n",
      "[[ 961    0    2    2    0    4    7    2    1    1]\n",
      " [   0 1111    2    2    0    1    4    1   14    0]\n",
      " [   7    7  916   17   11    5   13   12   39    5]\n",
      " [   5    1   21  918    2   19    4   13   19    8]\n",
      " [   1    3    2    1  919    1    9    1    7   38]\n",
      " [   9    3    1   39   10  765   20    8   29    8]\n",
      " [  12    3    7    2    7   15  909    0    3    0]\n",
      " [   2    9   24    5    9    1    1  944    2   31]\n",
      " [   9   13    6   19   15   37   12   12  840   11]\n",
      " [   9    8    2   14   40   11    0   26   11  888]]\n"
     ]
    },
    {
     "data": {
      "image/png": "[encoded data removed]",
      "text/plain": [
       "<Figure size 720x504 with 2 Axes>"
      ]
     },
     "metadata": {},
     "output_type": "display_data"
    }
   ],
   "source": [
    "# Plot non-normalized confusion matrix\n",
    "plt.figure(figsize=(10, 7))\n",
    "plot_confusion_matrix(cnf_matrix, classes=[0, 1, 2, 3, 4, 5, 6, 7, 8, 9],\n",
    "                      title='Матриця помилок, без нормалізації')"
   ]
  },
  {
   "cell_type": "code",
   "execution_count": 22,
   "metadata": {},
   "outputs": [
    {
     "data": {
      "text/plain": [
       "['app/classifiers/svm.pkl']"
      ]
     },
     "execution_count": 22,
     "metadata": {},
     "output_type": "execute_result"
    }
   ],
   "source": [
    "# save classifier\n",
    "from sklearn.externals import joblib\n",
    "joblib.dump(svm , 'app/classifiers/svm.pkl') "
   ]
  }
 ],
 "metadata": {
  "kernelspec": {
   "display_name": "Python 3",
   "language": "python",
   "name": "python3"
  },
  "language_info": {
   "codemirror_mode": {
    "name": "ipython",
    "version": 3
   },
   "file_extension": ".py",
   "mimetype": "text/x-python",
   "name": "python",
   "nbconvert_exporter": "python",
   "pygments_lexer": "ipython3",
   "version": "3.6.4"
  }
 },
 "nbformat": 4,
 "nbformat_minor": 2
}
