{
 "cells": [
  {
   "cell_type": "code",
   "execution_count": 1,
   "metadata": {},
   "outputs": [],
   "source": [
    "import gzip\n",
    "import struct\n",
    "import numpy as np\n",
    "import matplotlib.pyplot as plt"
   ]
  },
  {
   "cell_type": "markdown",
   "metadata": {},
   "source": [
    "1. Перших 2 байти завжди порожні тому ми їх пропускаємо зчитуючи >H тип unsigned short який займає 2 байти\n",
    "\n",
    "2. 3-ій байт вказує на тип даних\n",
    "  * 0x08: unsigned byte \n",
    "  * 0x09: signed byte \n",
    "  * 0x0B: short (2 bytes) \n",
    "  * 0x0C: int (4 bytes) \n",
    "  * 0x0D: float (4 bytes) \n",
    "  * 0x0E: double (8 bytes)\n",
    "  \n",
    "3. Наступний байт вказує кількість вимірів матриці\n",
    "\n",
    "4. Далі послідовно для кожного виміру вказано його розмір як 4-байтове ціле число. Тобто, починаючи з п’ятого байту, три групи по 4 байти вказують на розмірність тривимірної матриці, а саме"
   ]
  },
  {
   "cell_type": "code",
   "execution_count": 2,
   "metadata": {},
   "outputs": [
    {
     "name": "stdout",
     "output_type": "stream",
     "text": [
      "Labels shape\n",
      "(0, 8, 1)\n",
      "(60000,)\n",
      "\n",
      "Images shape\n",
      "(0, 8, 3)\n",
      "(60000, 28, 28)\n"
     ]
    }
   ],
   "source": [
    "print('Labels shape')\n",
    "\n",
    "with gzip.open('dataset/train-labels-idx1-ubyte.gz', 'rb') as f:\n",
    "    print(struct.unpack('>HBB', f.read(4)))\n",
    "    print(struct.unpack('>I', f.read(4)))\n",
    "\n",
    "print('\\nImages shape')\n",
    "with gzip.open('dataset/train-images-idx3-ubyte.gz', 'rb') as f:\n",
    "    print(struct.unpack('>HBB', f.read(4)))\n",
    "    print(struct.unpack('>III', f.read(12)))\n",
    "    \n",
    "    "
   ]
  },
  {
   "cell_type": "code",
   "execution_count": 3,
   "metadata": {},
   "outputs": [],
   "source": [
    "# script for reading MNIST file format\n",
    "def read_idx(filename):\n",
    "    with gzip.open(filename, 'rb') as f:\n",
    "        zero, data_type, dims = struct.unpack('>HBB', f.read(4))\n",
    "        shape = tuple(struct.unpack('>I', f.read(4))[0] for d in range(dims))\n",
    "        return np.frombuffer(f.read(), dtype=np.uint8).reshape(shape)"
   ]
  },
  {
   "cell_type": "code",
   "execution_count": 4,
   "metadata": {},
   "outputs": [],
   "source": [
    "raw_train = read_idx('dataset/train-images-idx3-ubyte.gz')\n",
    "X_train = raw_train.reshape(60000, 28 * 28)\n",
    "y_train = read_idx('dataset/train-labels-idx1-ubyte.gz')\n",
    "\n",
    "raw_test = read_idx('dataset/t10k-images-idx3-ubyte.gz')\n",
    "X_test = raw_test.reshape(10000, 28 * 28)\n",
    "y_test = read_idx('dataset/t10k-labels-idx1-ubyte.gz')"
   ]
  },
  {
   "cell_type": "code",
   "execution_count": 5,
   "metadata": {},
   "outputs": [
    {
     "name": "stderr",
     "output_type": "stream",
     "text": [
      "/usr/local/lib/python3.5/dist-packages/sklearn/utils/validation.py:475: DataConversionWarning: Data with input dtype uint8 was converted to float64 by StandardScaler.\n",
      "  warnings.warn(msg, DataConversionWarning)\n"
     ]
    }
   ],
   "source": [
    "from sklearn.preprocessing import StandardScaler\n",
    "\n",
    "scaler = StandardScaler()\n",
    "X_train_scaled = scaler.fit_transform(X_train)\n",
    "X_test_scaled = scaler.transform(X_test)"
   ]
  },
  {
   "cell_type": "code",
   "execution_count": 7,
   "metadata": {},
   "outputs": [],
   "source": [
    "import pandas as pd\n",
    "\n",
    "def get_subset(X, y, n):\n",
    "    df = pd.DataFrame(data=X)\n",
    "    df['label'] = y\n",
    "    df = df.groupby('label').apply(pd.DataFrame.sample, n=n).reset_index(drop=True)\n",
    "    \n",
    "    return df.iloc[:, :-1].copy(), df.label.copy()"
   ]
  },
  {
   "cell_type": "code",
   "execution_count": 8,
   "metadata": {},
   "outputs": [],
   "source": [
    "X_subset, y_subset = get_subset(X_train_scaled, y_train, 100)"
   ]
  },
  {
   "cell_type": "code",
   "execution_count": 9,
   "metadata": {},
   "outputs": [],
   "source": [
    "from sklearn.svm import LinearSVC"
   ]
  },
  {
   "cell_type": "code",
   "execution_count": 26,
   "metadata": {},
   "outputs": [
    {
     "name": "stdout",
     "output_type": "stream",
     "text": [
      "[LibLinear]CPU times: user 3.42 s, sys: 0 ns, total: 3.42 s\n",
      "Wall time: 3.5 s\n"
     ]
    },
    {
     "data": {
      "text/plain": [
       "LinearSVC(C=0.001, class_weight=None, dual=False, fit_intercept=True,\n",
       "     intercept_scaling=1, loss='squared_hinge', max_iter=1000000,\n",
       "     multi_class='ovr', penalty='l2', random_state=None, tol=0.0001,\n",
       "     verbose=True)"
      ]
     },
     "execution_count": 26,
     "metadata": {},
     "output_type": "execute_result"
    }
   ],
   "source": [
    "%time LinearSVC(C=0.001, verbose=True, dual=False, max_iter=1000000).fit(X_subset, y_subset)"
   ]
  },
  {
   "cell_type": "code",
   "execution_count": 10,
   "metadata": {},
   "outputs": [
    {
     "name": "stdout",
     "output_type": "stream",
     "text": [
      "[LibLinear][LibLinear][LibLinear][LibLinear][LibLinear]1e-05 0.788\n",
      "[LibLinear][LibLinear][LibLinear][LibLinear][LibLinear]0.0001 0.839\n",
      "[LibLinear][LibLinear][LibLinear][LibLinear][LibLinear]0.001 0.842\n",
      "[LibLinear][LibLinear][LibLinear][LibLinear][LibLinear]0.01 0.83\n",
      "[LibLinear][LibLinear][LibLinear][LibLinear][LibLinear]0.1 0.801\n",
      "[LibLinear][LibLinear][LibLinear][LibLinear][LibLinear]1.0 0.779\n",
      "[LibLinear][LibLinear][LibLinear][LibLinear][LibLinear]10.0 0.767\n",
      "[LibLinear][LibLinear][LibLinear][LibLinear][LibLinear]100.0 0.745\n",
      "[LibLinear][LibLinear][LibLinear][LibLinear][LibLinear]1000.0 0.746\n",
      "[LibLinear][LibLinear][LibLinear][LibLinear][LibLinear]10000.0 0.744\n"
     ]
    }
   ],
   "source": [
    "from sklearn.model_selection import cross_val_score\n",
    "\n",
    "parameters = np.power(10.0, np.arange(-5, 5))\n",
    "scores = []\n",
    "\n",
    "for c in parameters:\n",
    "    svc = LinearSVC(C=c, verbose=True, dual=False, max_iter=1000000)\n",
    "    score = cross_val_score(svc, X_subset, y_subset, cv=5, scoring='accuracy').mean()\n",
    "    scores.append(score)\n",
    "    print(c, scores[-1])"
   ]
  },
  {
   "cell_type": "code",
   "execution_count": 13,
   "metadata": {},
   "outputs": [
    {
     "name": "stdout",
     "output_type": "stream",
     "text": [
      "0.842 0.001\n"
     ]
    },
    {
     "data": {
      "image/png": "[encoded data removed]",
      "text/plain": [
       "<matplotlib.figure.Figure at 0x7fbf7c635908>"
      ]
     },
     "metadata": {},
     "output_type": "display_data"
    }
   ],
   "source": [
    "plt.plot(parameters, scores)\n",
    "\n",
    "# plt.xticks(parameters)\n",
    "\n",
    "plt.xlabel('Значення параметру C')\n",
    "plt.ylabel('Частка правильних відповідей')\n",
    "\n",
    "xmax = max(scores)\n",
    "xindex = scores.index(xmax)\n",
    "print(xmax, parameters[xindex])"
   ]
  },
  {
   "cell_type": "code",
   "execution_count": 19,
   "metadata": {},
   "outputs": [
    {
     "name": "stdout",
     "output_type": "stream",
     "text": [
      "[LibLinear]CPU times: user 7min 22s, sys: 60 ms, total: 7min 22s\n",
      "Wall time: 7min 22s\n"
     ]
    }
   ],
   "source": [
    "%time svm = LinearSVC(C=0.001, verbose=True, dual=False, max_iter=1000000).fit(X_train_scaled, y_train)"
   ]
  },
  {
   "cell_type": "code",
   "execution_count": 20,
   "metadata": {},
   "outputs": [
    {
     "name": "stdout",
     "output_type": "stream",
     "text": [
      "CPU times: user 120 ms, sys: 36 ms, total: 156 ms\n",
      "Wall time: 145 ms\n"
     ]
    }
   ],
   "source": [
    "%time y_pred = svm.predict(X_test_scaled)"
   ]
  },
  {
   "cell_type": "code",
   "execution_count": 21,
   "metadata": {},
   "outputs": [
    {
     "data": {
      "text/plain": [
       "0.90869999999999995"
      ]
     },
     "execution_count": 21,
     "metadata": {},
     "output_type": "execute_result"
    }
   ],
   "source": [
    "from sklearn.metrics import accuracy_score\n",
    "\n",
    "accuracy_score(y_test, y_pred)"
   ]
  },
  {
   "cell_type": "code",
   "execution_count": 22,
   "metadata": {},
   "outputs": [],
   "source": [
    "import itertools\n",
    "\n",
    "from sklearn.model_selection import train_test_split\n",
    "from sklearn.metrics import confusion_matrix\n",
    "\n",
    "def plot_confusion_matrix(cm, classes,\n",
    "                          normalize=False,\n",
    "                          title='Confusion matrix',\n",
    "                          cmap=plt.cm.Blues):\n",
    "    \"\"\"\n",
    "    This function prints and plots the confusion matrix.\n",
    "    Normalization can be applied by setting `normalize=True`.\n",
    "    \"\"\"\n",
    "    if normalize:\n",
    "        cm = cm.astype('float') / cm.sum(axis=1)[:, np.newaxis]\n",
    "        print(\"Нормалізована матриця помилок\")\n",
    "    else:\n",
    "        print('Матриця помилок, без нормалізації')\n",
    "\n",
    "    print(cm)\n",
    "\n",
    "    plt.imshow(cm, interpolation='nearest', cmap=cmap)\n",
    "    plt.title(title)\n",
    "    plt.colorbar()\n",
    "    tick_marks = np.arange(len(classes))\n",
    "    plt.xticks(tick_marks, classes, rotation=45)\n",
    "    plt.yticks(tick_marks, classes)\n",
    "\n",
    "    fmt = '.2f' if normalize else 'd'\n",
    "    thresh = cm.max() / 2.\n",
    "    for i, j in itertools.product(range(cm.shape[0]), range(cm.shape[1])):\n",
    "        plt.text(j, i, format(cm[i, j], fmt),\n",
    "                 horizontalalignment=\"center\",\n",
    "                 color=\"white\" if cm[i, j] > thresh else \"black\")\n",
    "\n",
    "    plt.tight_layout()\n",
    "    plt.ylabel('Вірний клас')\n",
    "    plt.xlabel('Передбачений клас')\n",
    "\n",
    "# Compute confusion matrix\n",
    "cnf_matrix = confusion_matrix(y_test, y_pred)\n",
    "np.set_printoptions(precision=2)"
   ]
  },
  {
   "cell_type": "code",
   "execution_count": 23,
   "metadata": {},
   "outputs": [
    {
     "name": "stdout",
     "output_type": "stream",
     "text": [
      "Матриця помилок, без нормалізації\n",
      "[[ 961    0    1    1    0    6    6    2    2    1]\n",
      " [   0 1106    3    2    1    2    4    1   16    0]\n",
      " [  11   18  898   16   11    5   16   15   37    5]\n",
      " [   5    4   22  912    3   20    4   14   21    5]\n",
      " [   1    6    4    1  916    1   10    4    8   31]\n",
      " [  12    6    0   35   14  755   23   14   24    9]\n",
      " [  10    7    7    1    7   17  907    1    1    0]\n",
      " [   3   17   18    5    9    0    2  936    3   35]\n",
      " [  12   22    9   17   16   36   14   16  822   10]\n",
      " [  12    7    1   18   47   11    0   33    6  874]]\n"
     ]
    },
    {
     "data": {
      "image/png": "[encoded data removed]",
      "text/plain": [
       "<matplotlib.figure.Figure at 0x7f4b0845d860>"
      ]
     },
     "metadata": {},
     "output_type": "display_data"
    }
   ],
   "source": [
    "# Plot non-normalized confusion matrix\n",
    "plt.figure(figsize=(10, 7))\n",
    "plot_confusion_matrix(cnf_matrix, classes=[0, 1, 2, 3, 4, 5, 6, 7, 8, 9],\n",
    "                      title='Матриця помилок, без нормалізації')"
   ]
  },
  {
   "cell_type": "code",
   "execution_count": 25,
   "metadata": {},
   "outputs": [
    {
     "data": {
      "text/plain": [
       "['app/classifiers/svm.pkl']"
      ]
     },
     "execution_count": 25,
     "metadata": {},
     "output_type": "execute_result"
    }
   ],
   "source": [
    "# save classifier\n",
    "from sklearn.externals import joblib\n",
    "joblib.dump(svm , 'app/classifiers/svm.pkl') "
   ]
  }
 ],
 "metadata": {
  "kernelspec": {
   "display_name": "Python 3",
   "language": "python",
   "name": "python3"
  },
  "language_info": {
   "codemirror_mode": {
    "name": "ipython",
    "version": 3
   },
   "file_extension": ".py",
   "mimetype": "text/x-python",
   "name": "python",
   "nbconvert_exporter": "python",
   "pygments_lexer": "ipython3",
   "version": "3.5.2"
  }
 },
 "nbformat": 4,
 "nbformat_minor": 2
}
