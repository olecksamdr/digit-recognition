{
 "cells": [
  {
   "cell_type": "code",
   "execution_count": 1,
   "metadata": {},
   "outputs": [],
   "source": [
    "import gzip\n",
    "import struct\n",
    "import numpy as np\n",
    "import matplotlib.pyplot as plt\n",
    "\n",
    "from sklearn.svm import SVC\n",
    "from sklearn.model_selection import KFold, cross_val_score"
   ]
  },
  {
   "cell_type": "markdown",
   "metadata": {},
   "source": [
    "1. Перших 2 байти завжди порожні тому ми їх пропускаємо зчитуючи >H тип unsigned short який займає 2 байти\n",
    "\n",
    "2. 3-ій байт вказує на тип даних\n",
    "  * 0x08: unsigned byte \n",
    "  * 0x09: signed byte \n",
    "  * 0x0B: short (2 bytes) \n",
    "  * 0x0C: int (4 bytes) \n",
    "  * 0x0D: float (4 bytes) \n",
    "  * 0x0E: double (8 bytes)\n",
    "  \n",
    "3. Наступний байт вказує кількість вимірів матриці\n",
    "\n",
    "4. Далі послідовно для кожного виміру вказано його розмір як 4-байтове ціле число. Тобто, починаючи з п’ятого байту, три групи по 4 байти вказують на розмірність тривимірної матриці, а саме"
   ]
  },
  {
   "cell_type": "code",
   "execution_count": 2,
   "metadata": {},
   "outputs": [
    {
     "name": "stdout",
     "output_type": "stream",
     "text": [
      "Labels shape\n",
      "(0, 8, 1)\n",
      "(60000,)\n",
      "\n",
      "Images shape\n",
      "(0, 8, 3)\n",
      "(60000, 28, 28)\n"
     ]
    }
   ],
   "source": [
    "print('Labels shape')\n",
    "\n",
    "with gzip.open('dataset/train-labels-idx1-ubyte.gz', 'rb') as f:\n",
    "    print(struct.unpack('>HBB', f.read(4)))\n",
    "    print(struct.unpack('>I', f.read(4)))\n",
    "\n",
    "print('\\nImages shape')\n",
    "with gzip.open('dataset/train-images-idx3-ubyte.gz', 'rb') as f:\n",
    "    print(struct.unpack('>HBB', f.read(4)))\n",
    "    print(struct.unpack('>III', f.read(12)))"
   ]
  },
  {
   "cell_type": "code",
   "execution_count": 3,
   "metadata": {},
   "outputs": [],
   "source": [
    "# script for reading MNIST file format\n",
    "def read_idx(filename):\n",
    "    with gzip.open(filename, 'rb') as f:\n",
    "        zero, data_type, dims = struct.unpack('>HBB', f.read(4))\n",
    "        shape = tuple(struct.unpack('>I', f.read(4))[0] for d in range(dims))\n",
    "        return np.frombuffer(f.read(), dtype=np.uint8).reshape(shape)"
   ]
  },
  {
   "cell_type": "code",
   "execution_count": 4,
   "metadata": {},
   "outputs": [],
   "source": [
    "raw_train = read_idx('dataset/train-images-idx3-ubyte.gz')\n",
    "X_train = raw_train.reshape(60000, 28 * 28)\n",
    "y_train = read_idx('dataset/train-labels-idx1-ubyte.gz')\n",
    "\n",
    "raw_test = read_idx('dataset/t10k-images-idx3-ubyte.gz')\n",
    "X_test = raw_test.reshape(10000, 28 * 28)\n",
    "y_test = read_idx('dataset/t10k-labels-idx1-ubyte.gz')"
   ]
  },
  {
   "cell_type": "code",
   "execution_count": 6,
   "metadata": {},
   "outputs": [],
   "source": [
    "from sklearn.ensemble import RandomForestClassifier"
   ]
  },
  {
   "cell_type": "code",
   "execution_count": 23,
   "metadata": {},
   "outputs": [
    {
     "name": "stderr",
     "output_type": "stream",
     "text": [
      "[Parallel(n_jobs=-1)]: Done  46 tasks      | elapsed:   50.2s\n",
      "[Parallel(n_jobs=-1)]: Done 100 out of 100 | elapsed:  1.6min finished\n",
      "[Parallel(n_jobs=2)]: Done  46 tasks      | elapsed:    0.5s\n",
      "[Parallel(n_jobs=2)]: Done 100 out of 100 | elapsed:    1.2s finished\n",
      "[Parallel(n_jobs=-1)]: Done  46 tasks      | elapsed:   44.7s\n",
      "[Parallel(n_jobs=-1)]: Done 100 out of 100 | elapsed:  1.7min finished\n",
      "[Parallel(n_jobs=2)]: Done  46 tasks      | elapsed:    0.6s\n",
      "[Parallel(n_jobs=2)]: Done 100 out of 100 | elapsed:    1.4s finished\n",
      "[Parallel(n_jobs=-1)]: Done  46 tasks      | elapsed:   46.0s\n",
      "[Parallel(n_jobs=-1)]: Done 100 out of 100 | elapsed:  1.7min finished\n",
      "[Parallel(n_jobs=2)]: Done  46 tasks      | elapsed:    0.5s\n",
      "[Parallel(n_jobs=2)]: Done 100 out of 100 | elapsed:    1.2s finished\n",
      "[Parallel(n_jobs=-1)]: Done  46 tasks      | elapsed:   47.3s\n",
      "[Parallel(n_jobs=-1)]: Done 100 out of 100 | elapsed:  1.7min finished\n",
      "[Parallel(n_jobs=2)]: Done  46 tasks      | elapsed:    0.5s\n",
      "[Parallel(n_jobs=2)]: Done 100 out of 100 | elapsed:    1.2s finished\n",
      "[Parallel(n_jobs=-1)]: Done  46 tasks      | elapsed:   46.6s\n",
      "[Parallel(n_jobs=-1)]: Done 100 out of 100 | elapsed:  1.7min finished\n",
      "[Parallel(n_jobs=2)]: Done  46 tasks      | elapsed:    0.6s\n",
      "[Parallel(n_jobs=2)]: Done 100 out of 100 | elapsed:    1.3s finished\n"
     ]
    },
    {
     "name": "stdout",
     "output_type": "stream",
     "text": [
      "0.9666668114992445\n"
     ]
    },
    {
     "name": "stderr",
     "output_type": "stream",
     "text": [
      "[Parallel(n_jobs=-1)]: Done  46 tasks      | elapsed:   47.2s\n",
      "[Parallel(n_jobs=-1)]: Done 196 tasks      | elapsed:  3.2min\n",
      "[Parallel(n_jobs=-1)]: Done 200 out of 200 | elapsed:  3.3min finished\n",
      "[Parallel(n_jobs=2)]: Done  46 tasks      | elapsed:    0.4s\n",
      "[Parallel(n_jobs=2)]: Done 196 tasks      | elapsed:    2.1s\n",
      "[Parallel(n_jobs=2)]: Done 200 out of 200 | elapsed:    2.2s finished\n",
      "[Parallel(n_jobs=-1)]: Done  46 tasks      | elapsed:   43.7s\n",
      "[Parallel(n_jobs=-1)]: Done 196 tasks      | elapsed:  3.1min\n",
      "[Parallel(n_jobs=-1)]: Done 200 out of 200 | elapsed:  3.2min finished\n",
      "[Parallel(n_jobs=2)]: Done  46 tasks      | elapsed:    0.4s\n",
      "[Parallel(n_jobs=2)]: Done 196 tasks      | elapsed:    2.1s\n",
      "[Parallel(n_jobs=2)]: Done 200 out of 200 | elapsed:    2.1s finished\n",
      "[Parallel(n_jobs=-1)]: Done  46 tasks      | elapsed:   43.4s\n",
      "[Parallel(n_jobs=-1)]: Done 196 tasks      | elapsed:  3.1min\n",
      "[Parallel(n_jobs=-1)]: Done 200 out of 200 | elapsed:  3.1min finished\n",
      "[Parallel(n_jobs=2)]: Done  46 tasks      | elapsed:    0.4s\n",
      "[Parallel(n_jobs=2)]: Done 196 tasks      | elapsed:    2.2s\n",
      "[Parallel(n_jobs=2)]: Done 200 out of 200 | elapsed:    2.2s finished\n",
      "[Parallel(n_jobs=-1)]: Done  46 tasks      | elapsed:   43.5s\n",
      "[Parallel(n_jobs=-1)]: Done 196 tasks      | elapsed:  3.0min\n",
      "[Parallel(n_jobs=-1)]: Done 200 out of 200 | elapsed:  3.1min finished\n",
      "[Parallel(n_jobs=2)]: Done  46 tasks      | elapsed:    0.4s\n",
      "[Parallel(n_jobs=2)]: Done 196 tasks      | elapsed:    2.0s\n",
      "[Parallel(n_jobs=2)]: Done 200 out of 200 | elapsed:    2.1s finished\n",
      "[Parallel(n_jobs=-1)]: Done  46 tasks      | elapsed:   44.1s\n",
      "[Parallel(n_jobs=-1)]: Done 196 tasks      | elapsed:  3.1min\n",
      "[Parallel(n_jobs=-1)]: Done 200 out of 200 | elapsed:  3.2min finished\n",
      "[Parallel(n_jobs=2)]: Done  46 tasks      | elapsed:    0.3s\n",
      "[Parallel(n_jobs=2)]: Done 196 tasks      | elapsed:    1.8s\n",
      "[Parallel(n_jobs=2)]: Done 200 out of 200 | elapsed:    1.8s finished\n"
     ]
    },
    {
     "name": "stdout",
     "output_type": "stream",
     "text": [
      "0.9674166448860332\n"
     ]
    },
    {
     "name": "stderr",
     "output_type": "stream",
     "text": [
      "[Parallel(n_jobs=-1)]: Done  46 tasks      | elapsed:   44.6s\n",
      "[Parallel(n_jobs=-1)]: Done 196 tasks      | elapsed:  3.1min\n",
      "[Parallel(n_jobs=-1)]: Done 300 out of 300 | elapsed:  4.7min finished\n",
      "[Parallel(n_jobs=2)]: Done  46 tasks      | elapsed:    0.5s\n",
      "[Parallel(n_jobs=2)]: Done 196 tasks      | elapsed:    2.3s\n",
      "[Parallel(n_jobs=2)]: Done 300 out of 300 | elapsed:    3.5s finished\n",
      "[Parallel(n_jobs=-1)]: Done  46 tasks      | elapsed:   44.3s\n",
      "[Parallel(n_jobs=-1)]: Done 196 tasks      | elapsed:  3.1min\n",
      "[Parallel(n_jobs=-1)]: Done 300 out of 300 | elapsed:  4.8min finished\n",
      "[Parallel(n_jobs=2)]: Done  46 tasks      | elapsed:    0.4s\n",
      "[Parallel(n_jobs=2)]: Done 196 tasks      | elapsed:    2.2s\n",
      "[Parallel(n_jobs=2)]: Done 300 out of 300 | elapsed:    3.8s finished\n",
      "[Parallel(n_jobs=-1)]: Done  46 tasks      | elapsed:   42.5s\n",
      "[Parallel(n_jobs=-1)]: Done 196 tasks      | elapsed:  2.9min\n",
      "[Parallel(n_jobs=-1)]: Done 300 out of 300 | elapsed:  4.6min finished\n",
      "[Parallel(n_jobs=2)]: Done  46 tasks      | elapsed:    0.4s\n",
      "[Parallel(n_jobs=2)]: Done 196 tasks      | elapsed:    2.1s\n",
      "[Parallel(n_jobs=2)]: Done 300 out of 300 | elapsed:    3.3s finished\n",
      "[Parallel(n_jobs=-1)]: Done  46 tasks      | elapsed:   42.0s\n",
      "[Parallel(n_jobs=-1)]: Done 196 tasks      | elapsed:  3.0min\n",
      "[Parallel(n_jobs=-1)]: Done 300 out of 300 | elapsed:  4.6min finished\n",
      "[Parallel(n_jobs=2)]: Done  46 tasks      | elapsed:    0.5s\n",
      "[Parallel(n_jobs=2)]: Done 196 tasks      | elapsed:    2.4s\n",
      "[Parallel(n_jobs=2)]: Done 300 out of 300 | elapsed:    3.7s finished\n",
      "[Parallel(n_jobs=-1)]: Done  46 tasks      | elapsed:   44.1s\n",
      "[Parallel(n_jobs=-1)]: Done 196 tasks      | elapsed:  3.1min\n",
      "[Parallel(n_jobs=-1)]: Done 300 out of 300 | elapsed:  4.8min finished\n",
      "[Parallel(n_jobs=2)]: Done  46 tasks      | elapsed:    0.5s\n",
      "[Parallel(n_jobs=2)]: Done 196 tasks      | elapsed:    2.3s\n",
      "[Parallel(n_jobs=2)]: Done 300 out of 300 | elapsed:    3.6s finished\n"
     ]
    },
    {
     "name": "stdout",
     "output_type": "stream",
     "text": [
      "0.9681334005024727\n"
     ]
    },
    {
     "name": "stderr",
     "output_type": "stream",
     "text": [
      "[Parallel(n_jobs=-1)]: Done  46 tasks      | elapsed:   44.0s\n",
      "[Parallel(n_jobs=-1)]: Done 196 tasks      | elapsed:  3.1min\n",
      "[Parallel(n_jobs=-1)]: Done 400 out of 400 | elapsed:  6.3min finished\n",
      "[Parallel(n_jobs=2)]: Done  46 tasks      | elapsed:    0.5s\n",
      "[Parallel(n_jobs=2)]: Done 196 tasks      | elapsed:    2.2s\n",
      "[Parallel(n_jobs=2)]: Done 400 out of 400 | elapsed:    4.3s finished\n",
      "[Parallel(n_jobs=-1)]: Done  46 tasks      | elapsed:   43.3s\n",
      "[Parallel(n_jobs=-1)]: Done 196 tasks      | elapsed:  3.1min\n",
      "[Parallel(n_jobs=-1)]: Done 400 out of 400 | elapsed:  6.2min finished\n",
      "[Parallel(n_jobs=2)]: Done  46 tasks      | elapsed:    0.4s\n",
      "[Parallel(n_jobs=2)]: Done 196 tasks      | elapsed:    2.3s\n",
      "[Parallel(n_jobs=2)]: Done 400 out of 400 | elapsed:    4.5s finished\n",
      "[Parallel(n_jobs=-1)]: Done  46 tasks      | elapsed:   44.8s\n",
      "[Parallel(n_jobs=-1)]: Done 196 tasks      | elapsed:  3.1min\n",
      "[Parallel(n_jobs=-1)]: Done 400 out of 400 | elapsed:  6.3min finished\n",
      "[Parallel(n_jobs=2)]: Done  46 tasks      | elapsed:    0.3s\n",
      "[Parallel(n_jobs=2)]: Done 196 tasks      | elapsed:    1.9s\n",
      "[Parallel(n_jobs=2)]: Done 400 out of 400 | elapsed:    4.1s finished\n",
      "[Parallel(n_jobs=-1)]: Done  46 tasks      | elapsed:   41.9s\n",
      "[Parallel(n_jobs=-1)]: Done 196 tasks      | elapsed:  3.1min\n",
      "[Parallel(n_jobs=-1)]: Done 400 out of 400 | elapsed:  6.3min finished\n",
      "[Parallel(n_jobs=2)]: Done  46 tasks      | elapsed:    0.4s\n",
      "[Parallel(n_jobs=2)]: Done 196 tasks      | elapsed:    2.4s\n",
      "[Parallel(n_jobs=2)]: Done 400 out of 400 | elapsed:    4.6s finished\n",
      "[Parallel(n_jobs=-1)]: Done  46 tasks      | elapsed:   43.8s\n",
      "[Parallel(n_jobs=-1)]: Done 196 tasks      | elapsed:  3.1min\n",
      "[Parallel(n_jobs=-1)]: Done 400 out of 400 | elapsed:  6.3min finished\n",
      "[Parallel(n_jobs=2)]: Done  46 tasks      | elapsed:    0.4s\n",
      "[Parallel(n_jobs=2)]: Done 196 tasks      | elapsed:    2.3s\n"
     ]
    },
    {
     "name": "stdout",
     "output_type": "stream",
     "text": [
      "0.9680332546882161\n"
     ]
    },
    {
     "name": "stderr",
     "output_type": "stream",
     "text": [
      "[Parallel(n_jobs=2)]: Done 400 out of 400 | elapsed:    4.6s finished\n"
     ]
    }
   ],
   "source": [
    "from sklearn.model_selection import cross_val_score\n",
    "\n",
    "parameters = [100, 200, 300, 400]\n",
    "scores = []\n",
    "for parameter in parameters:\n",
    "    clf = RandomForestClassifier(n_estimators=parameter, n_jobs=-1, verbose=True)\n",
    "    cv_scores = cross_val_score(clf, X_train, y_train, cv=5, scoring='accuracy')\n",
    "    scores.append(cv_scores.mean())\n",
    "    print(scores[-1])"
   ]
  },
  {
   "cell_type": "code",
   "execution_count": 24,
   "metadata": {},
   "outputs": [
    {
     "data": {
      "text/plain": [
       "Text(0,0.5,'Відсоток правильних відповідей')"
      ]
     },
     "execution_count": 24,
     "metadata": {},
     "output_type": "execute_result"
    },
    {
     "data": {
      "image/png": "[encoded data removed]",
      "text/plain": [
       "<Figure size 432x288 with 1 Axes>"
      ]
     },
     "metadata": {},
     "output_type": "display_data"
    }
   ],
   "source": [
    "plt.plot(parameters, scores)\n",
    "plt.xticks(parameters)\n",
    "plt.yticks(scores)\n",
    "plt.xlabel('Значення пареметру n_estimators')\n",
    "plt.ylabel('Відсоток правильних відповідей')"
   ]
  },
  {
   "cell_type": "code",
   "execution_count": 8,
   "metadata": {},
   "outputs": [
    {
     "name": "stderr",
     "output_type": "stream",
     "text": [
      "[Parallel(n_jobs=-1)]: Done  46 tasks      | elapsed:   21.0s\n",
      "[Parallel(n_jobs=-1)]: Done 196 tasks      | elapsed:  1.5min\n"
     ]
    },
    {
     "name": "stdout",
     "output_type": "stream",
     "text": [
      "CPU times: user 4min 36s, sys: 1.29 s, total: 4min 37s\n",
      "Wall time: 2min 25s\n"
     ]
    },
    {
     "name": "stderr",
     "output_type": "stream",
     "text": [
      "[Parallel(n_jobs=-1)]: Done 300 out of 300 | elapsed:  2.4min finished\n"
     ]
    }
   ],
   "source": [
    "%time clf = RandomForestClassifier(n_estimators=300, n_jobs=-1, verbose=True).fit(X_train, y_train)"
   ]
  },
  {
   "cell_type": "code",
   "execution_count": 9,
   "metadata": {},
   "outputs": [
    {
     "data": {
      "text/plain": [
       "['app/classifiers/random-forest.pkl']"
      ]
     },
     "execution_count": 9,
     "metadata": {},
     "output_type": "execute_result"
    }
   ],
   "source": [
    "# save classifier\n",
    "from sklearn.externals import joblib\n",
    "joblib.dump(clf, 'app/classifiers/random-forest.pkl') "
   ]
  },
  {
   "cell_type": "code",
   "execution_count": 11,
   "metadata": {},
   "outputs": [
    {
     "name": "stderr",
     "output_type": "stream",
     "text": [
      "[Parallel(n_jobs=2)]: Done  46 tasks      | elapsed:    0.7s\n",
      "[Parallel(n_jobs=2)]: Done 196 tasks      | elapsed:    2.9s\n",
      "[Parallel(n_jobs=2)]: Done 300 out of 300 | elapsed:    4.2s finished\n"
     ]
    },
    {
     "data": {
      "text/plain": [
       "0.9706"
      ]
     },
     "execution_count": 11,
     "metadata": {},
     "output_type": "execute_result"
    }
   ],
   "source": [
    "from sklearn.metrics import accuracy_score\n",
    "\n",
    "y_pred = clf.predict(X_test)\n",
    "accuracy_score(y_test, y_pred)"
   ]
  },
  {
   "cell_type": "code",
   "execution_count": 19,
   "metadata": {},
   "outputs": [],
   "source": [
    "import itertools\n",
    "\n",
    "from sklearn.model_selection import train_test_split\n",
    "from sklearn.metrics import confusion_matrix\n",
    "\n",
    "def plot_confusion_matrix(cm, classes,\n",
    "                          normalize=False,\n",
    "                          title='Confusion matrix',\n",
    "                          cmap=plt.cm.Blues):\n",
    "    \"\"\"\n",
    "    This function prints and plots the confusion matrix.\n",
    "    Normalization can be applied by setting `normalize=True`.\n",
    "    \"\"\"\n",
    "    if normalize:\n",
    "        cm = cm.astype('float') / cm.sum(axis=1)[:, np.newaxis]\n",
    "        print(\"Нормалізована матриця помилок\")\n",
    "    else:\n",
    "        print('Матриця помилок, без нормалізації')\n",
    "\n",
    "    print(cm)\n",
    "\n",
    "    plt.imshow(cm, interpolation='nearest', cmap=cmap)\n",
    "    plt.title(title)\n",
    "    plt.colorbar()\n",
    "    tick_marks = np.arange(len(classes))\n",
    "    plt.xticks(tick_marks, classes, rotation=45)\n",
    "    plt.yticks(tick_marks, classes)\n",
    "\n",
    "    fmt = '.2f' if normalize else 'd'\n",
    "    thresh = cm.max() / 2.\n",
    "    for i, j in itertools.product(range(cm.shape[0]), range(cm.shape[1])):\n",
    "        plt.text(j, i, format(cm[i, j], fmt),\n",
    "                 horizontalalignment=\"center\",\n",
    "                 color=\"white\" if cm[i, j] > thresh else \"black\")\n",
    "\n",
    "    plt.tight_layout()\n",
    "    plt.ylabel('Вірний клас')\n",
    "    plt.xlabel('Передбачений клас')\n",
    "\n",
    "# Compute confusion matrix\n",
    "cnf_matrix = confusion_matrix(y_test, y_pred)\n",
    "np.set_printoptions(precision=2)"
   ]
  },
  {
   "cell_type": "code",
   "execution_count": 21,
   "metadata": {},
   "outputs": [
    {
     "name": "stdout",
     "output_type": "stream",
     "text": [
      "Матриця помилок, без нормалізації\n",
      "[[ 970    0    0    0    0    2    2    1    4    1]\n",
      " [   0 1122    3    3    0    2    3    1    1    0]\n",
      " [   5    1  999    6    2    0    4    8    7    0]\n",
      " [   0    0    9  972    0    8    0    9    8    4]\n",
      " [   1    0    1    0  958    0    5    0    3   14]\n",
      " [   3    0    1   12    4  859    4    1    5    3]\n",
      " [   6    3    0    0    3    3  941    0    2    0]\n",
      " [   1    2   20    1    2    0    0  990    1   11]\n",
      " [   3    0    6    8    4    4    5    4  933    7]\n",
      " [   6    6    3    8   12    2    1    4    5  962]]\n"
     ]
    },
    {
     "data": {
      "image/png": "[encoded data removed]",
      "text/plain": [
       "<Figure size 720x504 with 2 Axes>"
      ]
     },
     "metadata": {},
     "output_type": "display_data"
    }
   ],
   "source": [
    "# Plot non-normalized confusion matrix\n",
    "plt.figure(figsize=(10, 7))\n",
    "plot_confusion_matrix(cnf_matrix, classes=[0, 1, 2, 3, 4, 5, 6, 7, 8, 9],\n",
    "                      title='Матриця помилок, без нормалізації')"
   ]
  },
  {
   "cell_type": "code",
   "execution_count": 22,
   "metadata": {},
   "outputs": [
    {
     "name": "stdout",
     "output_type": "stream",
     "text": [
      "Нормалізована матриця помилок\n",
      "[[9.90e-01 0.00e+00 0.00e+00 0.00e+00 0.00e+00 2.04e-03 2.04e-03 1.02e-03\n",
      "  4.08e-03 1.02e-03]\n",
      " [0.00e+00 9.89e-01 2.64e-03 2.64e-03 0.00e+00 1.76e-03 2.64e-03 8.81e-04\n",
      "  8.81e-04 0.00e+00]\n",
      " [4.84e-03 9.69e-04 9.68e-01 5.81e-03 1.94e-03 0.00e+00 3.88e-03 7.75e-03\n",
      "  6.78e-03 0.00e+00]\n",
      " [0.00e+00 0.00e+00 8.91e-03 9.62e-01 0.00e+00 7.92e-03 0.00e+00 8.91e-03\n",
      "  7.92e-03 3.96e-03]\n",
      " [1.02e-03 0.00e+00 1.02e-03 0.00e+00 9.76e-01 0.00e+00 5.09e-03 0.00e+00\n",
      "  3.05e-03 1.43e-02]\n",
      " [3.36e-03 0.00e+00 1.12e-03 1.35e-02 4.48e-03 9.63e-01 4.48e-03 1.12e-03\n",
      "  5.61e-03 3.36e-03]\n",
      " [6.26e-03 3.13e-03 0.00e+00 0.00e+00 3.13e-03 3.13e-03 9.82e-01 0.00e+00\n",
      "  2.09e-03 0.00e+00]\n",
      " [9.73e-04 1.95e-03 1.95e-02 9.73e-04 1.95e-03 0.00e+00 0.00e+00 9.63e-01\n",
      "  9.73e-04 1.07e-02]\n",
      " [3.08e-03 0.00e+00 6.16e-03 8.21e-03 4.11e-03 4.11e-03 5.13e-03 4.11e-03\n",
      "  9.58e-01 7.19e-03]\n",
      " [5.95e-03 5.95e-03 2.97e-03 7.93e-03 1.19e-02 1.98e-03 9.91e-04 3.96e-03\n",
      "  4.96e-03 9.53e-01]]\n"
     ]
    },
    {
     "data": {
      "image/png": "[encoded data removed]",
      "text/plain": [
       "<Figure size 720x504 with 2 Axes>"
      ]
     },
     "metadata": {},
     "output_type": "display_data"
    }
   ],
   "source": [
    "# Plot normalized confusion matrix\n",
    "plt.figure(figsize=(10, 7))\n",
    "plot_confusion_matrix(cnf_matrix, classes=[0, 1, 2, 3, 4, 5, 6, 7, 8, 9], normalize=True,\n",
    "                      title='Нормалізована матриця помилок')"
   ]
  },
  {
   "cell_type": "code",
   "execution_count": 15,
   "metadata": {},
   "outputs": [],
   "source": [
    "plt.show()"
   ]
  },
  {
   "cell_type": "code",
   "execution_count": 16,
   "metadata": {},
   "outputs": [
    {
     "data": {
      "text/plain": [
       "<matplotlib.image.AxesImage at 0x1368670>"
      ]
     },
     "execution_count": 16,
     "metadata": {},
     "output_type": "execute_result"
    },
    {
     "data": {
      "image/png": "[encoded data removed]",
      "text/plain": [
       "<Figure size 432x288 with 1 Axes>"
      ]
     },
     "metadata": {},
     "output_type": "display_data"
    }
   ],
   "source": [
    "plt.imshow(X_test[0].reshape(28, 28), cmap=\"binary\")"
   ]
  }
 ],
 "metadata": {
  "kernelspec": {
   "display_name": "Python 3",
   "language": "python",
   "name": "python3"
  },
  "language_info": {
   "codemirror_mode": {
    "name": "ipython",
    "version": 3
   },
   "file_extension": ".py",
   "mimetype": "text/x-python",
   "name": "python",
   "nbconvert_exporter": "python",
   "pygments_lexer": "ipython3",
   "version": "3.5.2"
  }
 },
 "nbformat": 4,
 "nbformat_minor": 2
}
